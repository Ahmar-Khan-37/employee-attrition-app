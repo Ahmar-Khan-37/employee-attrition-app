{
 "cells": [
  {
   "cell_type": "code",
   "execution_count": null,
   "id": "f1985c5d",
   "metadata": {},
   "outputs": [],
   "source": [
    "!pip install streamlit"
   ]
  },
  {
   "cell_type": "code",
   "execution_count": 1,
   "id": "c25b3727",
   "metadata": {},
   "outputs": [],
   "source": [
    "import pandas as pd\n",
    "import numpy as np\n",
    "from sklearn.model_selection import train_test_split\n",
    "import matplotlib.pyplot as plt\n",
    "import seaborn as sns\n",
    "from sklearn.ensemble import RandomForestClassifier\n",
    "from sklearn.preprocessing import LabelEncoder\n",
    "import streamlit as st\n"
   ]
  },
  {
   "cell_type": "code",
   "execution_count": 2,
   "id": "4082717e",
   "metadata": {},
   "outputs": [],
   "source": [
    "data=pd.read_csv(r\"F:\\Internship\\BiStartX\\Datasets\\HR Employee Attrition Datasets\\HR Employee data.csv\")"
   ]
  },
  {
   "cell_type": "code",
   "execution_count": 3,
   "id": "d52e12f8",
   "metadata": {},
   "outputs": [
    {
     "data": {
      "text/html": [
       "<div>\n",
       "<style scoped>\n",
       "    .dataframe tbody tr th:only-of-type {\n",
       "        vertical-align: middle;\n",
       "    }\n",
       "\n",
       "    .dataframe tbody tr th {\n",
       "        vertical-align: top;\n",
       "    }\n",
       "\n",
       "    .dataframe thead th {\n",
       "        text-align: right;\n",
       "    }\n",
       "</style>\n",
       "<table border=\"1\" class=\"dataframe\">\n",
       "  <thead>\n",
       "    <tr style=\"text-align: right;\">\n",
       "      <th></th>\n",
       "      <th>EmployeeID</th>\n",
       "      <th>JoiningYear</th>\n",
       "      <th>Age</th>\n",
       "      <th>BusinessTravel</th>\n",
       "      <th>DailyRate</th>\n",
       "      <th>Department</th>\n",
       "      <th>DistanceFromHome</th>\n",
       "      <th>EducationField</th>\n",
       "      <th>EmployeeCount</th>\n",
       "      <th>EmployeeNumber</th>\n",
       "      <th>...</th>\n",
       "      <th>YearsAtCompany</th>\n",
       "      <th>YearsInCurrentRole</th>\n",
       "      <th>YearsSinceLastPromotion</th>\n",
       "      <th>YearsWithCurrManager</th>\n",
       "      <th>Attrition</th>\n",
       "      <th>LeavingYear</th>\n",
       "      <th>Reason</th>\n",
       "      <th>RelievingStatus</th>\n",
       "      <th>office_code</th>\n",
       "      <th>JobLevel_updated</th>\n",
       "    </tr>\n",
       "  </thead>\n",
       "  <tbody>\n",
       "    <tr>\n",
       "      <th>0</th>\n",
       "      <td>100000</td>\n",
       "      <td>2005</td>\n",
       "      <td>57</td>\n",
       "      <td>Travel_Rarely</td>\n",
       "      <td>164</td>\n",
       "      <td>Corporate Functions</td>\n",
       "      <td>22</td>\n",
       "      <td>Doctorate</td>\n",
       "      <td>1</td>\n",
       "      <td>217</td>\n",
       "      <td>...</td>\n",
       "      <td>14</td>\n",
       "      <td>4</td>\n",
       "      <td>5</td>\n",
       "      <td>3</td>\n",
       "      <td>Yes</td>\n",
       "      <td>2019.0</td>\n",
       "      <td>long hours</td>\n",
       "      <td>Voluntary</td>\n",
       "      <td>BOS</td>\n",
       "      <td>L7</td>\n",
       "    </tr>\n",
       "    <tr>\n",
       "      <th>1</th>\n",
       "      <td>100001</td>\n",
       "      <td>2006</td>\n",
       "      <td>52</td>\n",
       "      <td>Travel_Rarely</td>\n",
       "      <td>265</td>\n",
       "      <td>Corporate Functions</td>\n",
       "      <td>19</td>\n",
       "      <td>Doctorate</td>\n",
       "      <td>1</td>\n",
       "      <td>519</td>\n",
       "      <td>...</td>\n",
       "      <td>12</td>\n",
       "      <td>4</td>\n",
       "      <td>5</td>\n",
       "      <td>3</td>\n",
       "      <td>Yes</td>\n",
       "      <td>2018.0</td>\n",
       "      <td>medical issues</td>\n",
       "      <td>Voluntary</td>\n",
       "      <td>NYC</td>\n",
       "      <td>L6</td>\n",
       "    </tr>\n",
       "    <tr>\n",
       "      <th>2</th>\n",
       "      <td>100002</td>\n",
       "      <td>2006</td>\n",
       "      <td>53</td>\n",
       "      <td>Travel_Rarely</td>\n",
       "      <td>607</td>\n",
       "      <td>Corporate Functions</td>\n",
       "      <td>2</td>\n",
       "      <td>Doctorate</td>\n",
       "      <td>1</td>\n",
       "      <td>1572</td>\n",
       "      <td>...</td>\n",
       "      <td>12</td>\n",
       "      <td>3</td>\n",
       "      <td>1</td>\n",
       "      <td>4</td>\n",
       "      <td>Yes</td>\n",
       "      <td>2018.0</td>\n",
       "      <td>retiring</td>\n",
       "      <td>Voluntary</td>\n",
       "      <td>OTT</td>\n",
       "      <td>L6</td>\n",
       "    </tr>\n",
       "    <tr>\n",
       "      <th>3</th>\n",
       "      <td>100003</td>\n",
       "      <td>2006</td>\n",
       "      <td>54</td>\n",
       "      <td>Travel_Rarely</td>\n",
       "      <td>215</td>\n",
       "      <td>Corporate Functions</td>\n",
       "      <td>19</td>\n",
       "      <td>Diploma</td>\n",
       "      <td>1</td>\n",
       "      <td>309</td>\n",
       "      <td>...</td>\n",
       "      <td>13</td>\n",
       "      <td>4</td>\n",
       "      <td>5</td>\n",
       "      <td>3</td>\n",
       "      <td>Yes</td>\n",
       "      <td>2019.0</td>\n",
       "      <td>career change</td>\n",
       "      <td>Voluntary</td>\n",
       "      <td>NYC</td>\n",
       "      <td>L7</td>\n",
       "    </tr>\n",
       "    <tr>\n",
       "      <th>4</th>\n",
       "      <td>100004</td>\n",
       "      <td>2007</td>\n",
       "      <td>57</td>\n",
       "      <td>Travel_Rarely</td>\n",
       "      <td>285</td>\n",
       "      <td>Marketing</td>\n",
       "      <td>2</td>\n",
       "      <td>Diploma</td>\n",
       "      <td>1</td>\n",
       "      <td>828</td>\n",
       "      <td>...</td>\n",
       "      <td>11</td>\n",
       "      <td>5</td>\n",
       "      <td>5</td>\n",
       "      <td>3</td>\n",
       "      <td>Yes</td>\n",
       "      <td>2018.0</td>\n",
       "      <td>retiring</td>\n",
       "      <td>Voluntary</td>\n",
       "      <td>CAL</td>\n",
       "      <td>L5</td>\n",
       "    </tr>\n",
       "    <tr>\n",
       "      <th>5</th>\n",
       "      <td>100005</td>\n",
       "      <td>2007</td>\n",
       "      <td>57</td>\n",
       "      <td>Travel_Rarely</td>\n",
       "      <td>224</td>\n",
       "      <td>Corporate Functions</td>\n",
       "      <td>21</td>\n",
       "      <td>Masters</td>\n",
       "      <td>1</td>\n",
       "      <td>223</td>\n",
       "      <td>...</td>\n",
       "      <td>14</td>\n",
       "      <td>4</td>\n",
       "      <td>5</td>\n",
       "      <td>3</td>\n",
       "      <td>Yes</td>\n",
       "      <td>2021.0</td>\n",
       "      <td>retiring</td>\n",
       "      <td>Voluntary</td>\n",
       "      <td>CAL</td>\n",
       "      <td>L7</td>\n",
       "    </tr>\n",
       "    <tr>\n",
       "      <th>6</th>\n",
       "      <td>100006</td>\n",
       "      <td>2007</td>\n",
       "      <td>50</td>\n",
       "      <td>Travel_Rarely</td>\n",
       "      <td>528</td>\n",
       "      <td>Corporate Functions</td>\n",
       "      <td>2</td>\n",
       "      <td>Diploma</td>\n",
       "      <td>1</td>\n",
       "      <td>1485</td>\n",
       "      <td>...</td>\n",
       "      <td>11</td>\n",
       "      <td>3</td>\n",
       "      <td>1</td>\n",
       "      <td>3</td>\n",
       "      <td>Yes</td>\n",
       "      <td>2018.0</td>\n",
       "      <td>retiring</td>\n",
       "      <td>Voluntary</td>\n",
       "      <td>OTT</td>\n",
       "      <td>L6</td>\n",
       "    </tr>\n",
       "    <tr>\n",
       "      <th>7</th>\n",
       "      <td>100007</td>\n",
       "      <td>2007</td>\n",
       "      <td>52</td>\n",
       "      <td>Travel_Rarely</td>\n",
       "      <td>590</td>\n",
       "      <td>Corporate Functions</td>\n",
       "      <td>2</td>\n",
       "      <td>Diploma</td>\n",
       "      <td>1</td>\n",
       "      <td>1563</td>\n",
       "      <td>...</td>\n",
       "      <td>11</td>\n",
       "      <td>3</td>\n",
       "      <td>1</td>\n",
       "      <td>3</td>\n",
       "      <td>Yes</td>\n",
       "      <td>2018.0</td>\n",
       "      <td>return to school</td>\n",
       "      <td>Voluntary</td>\n",
       "      <td>PHL</td>\n",
       "      <td>L6</td>\n",
       "    </tr>\n",
       "    <tr>\n",
       "      <th>8</th>\n",
       "      <td>100008</td>\n",
       "      <td>2007</td>\n",
       "      <td>58</td>\n",
       "      <td>Travel_Rarely</td>\n",
       "      <td>147</td>\n",
       "      <td>Delivery</td>\n",
       "      <td>23</td>\n",
       "      <td>Diploma</td>\n",
       "      <td>1</td>\n",
       "      <td>165</td>\n",
       "      <td>...</td>\n",
       "      <td>15</td>\n",
       "      <td>4</td>\n",
       "      <td>6</td>\n",
       "      <td>3</td>\n",
       "      <td>Yes</td>\n",
       "      <td>2022.0</td>\n",
       "      <td>Misconduct</td>\n",
       "      <td>Involuntary</td>\n",
       "      <td>BOS</td>\n",
       "      <td>L3</td>\n",
       "    </tr>\n",
       "    <tr>\n",
       "      <th>9</th>\n",
       "      <td>100009</td>\n",
       "      <td>2007</td>\n",
       "      <td>57</td>\n",
       "      <td>Travel_Rarely</td>\n",
       "      <td>305</td>\n",
       "      <td>Marketing</td>\n",
       "      <td>2</td>\n",
       "      <td>Masters</td>\n",
       "      <td>1</td>\n",
       "      <td>823</td>\n",
       "      <td>...</td>\n",
       "      <td>11</td>\n",
       "      <td>5</td>\n",
       "      <td>5</td>\n",
       "      <td>3</td>\n",
       "      <td>Yes</td>\n",
       "      <td>2018.0</td>\n",
       "      <td>long hours</td>\n",
       "      <td>Voluntary</td>\n",
       "      <td>NYC</td>\n",
       "      <td>L5</td>\n",
       "    </tr>\n",
       "  </tbody>\n",
       "</table>\n",
       "<p>10 rows × 39 columns</p>\n",
       "</div>"
      ],
      "text/plain": [
       "   EmployeeID  JoiningYear  Age BusinessTravel  DailyRate  \\\n",
       "0      100000         2005   57  Travel_Rarely        164   \n",
       "1      100001         2006   52  Travel_Rarely        265   \n",
       "2      100002         2006   53  Travel_Rarely        607   \n",
       "3      100003         2006   54  Travel_Rarely        215   \n",
       "4      100004         2007   57  Travel_Rarely        285   \n",
       "5      100005         2007   57  Travel_Rarely        224   \n",
       "6      100006         2007   50  Travel_Rarely        528   \n",
       "7      100007         2007   52  Travel_Rarely        590   \n",
       "8      100008         2007   58  Travel_Rarely        147   \n",
       "9      100009         2007   57  Travel_Rarely        305   \n",
       "\n",
       "            Department  DistanceFromHome EducationField  EmployeeCount  \\\n",
       "0  Corporate Functions                22      Doctorate              1   \n",
       "1  Corporate Functions                19      Doctorate              1   \n",
       "2  Corporate Functions                 2      Doctorate              1   \n",
       "3  Corporate Functions                19        Diploma              1   \n",
       "4            Marketing                 2        Diploma              1   \n",
       "5  Corporate Functions                21        Masters              1   \n",
       "6  Corporate Functions                 2        Diploma              1   \n",
       "7  Corporate Functions                 2        Diploma              1   \n",
       "8             Delivery                23        Diploma              1   \n",
       "9            Marketing                 2        Masters              1   \n",
       "\n",
       "   EmployeeNumber  ...  YearsAtCompany YearsInCurrentRole  \\\n",
       "0             217  ...              14                  4   \n",
       "1             519  ...              12                  4   \n",
       "2            1572  ...              12                  3   \n",
       "3             309  ...              13                  4   \n",
       "4             828  ...              11                  5   \n",
       "5             223  ...              14                  4   \n",
       "6            1485  ...              11                  3   \n",
       "7            1563  ...              11                  3   \n",
       "8             165  ...              15                  4   \n",
       "9             823  ...              11                  5   \n",
       "\n",
       "   YearsSinceLastPromotion  YearsWithCurrManager  Attrition LeavingYear  \\\n",
       "0                        5                     3        Yes      2019.0   \n",
       "1                        5                     3        Yes      2018.0   \n",
       "2                        1                     4        Yes      2018.0   \n",
       "3                        5                     3        Yes      2019.0   \n",
       "4                        5                     3        Yes      2018.0   \n",
       "5                        5                     3        Yes      2021.0   \n",
       "6                        1                     3        Yes      2018.0   \n",
       "7                        1                     3        Yes      2018.0   \n",
       "8                        6                     3        Yes      2022.0   \n",
       "9                        5                     3        Yes      2018.0   \n",
       "\n",
       "             Reason  RelievingStatus  office_code JobLevel_updated  \n",
       "0        long hours        Voluntary          BOS               L7  \n",
       "1    medical issues        Voluntary          NYC               L6  \n",
       "2          retiring        Voluntary          OTT               L6  \n",
       "3     career change        Voluntary          NYC               L7  \n",
       "4          retiring        Voluntary          CAL               L5  \n",
       "5          retiring        Voluntary          CAL               L7  \n",
       "6          retiring        Voluntary          OTT               L6  \n",
       "7  return to school        Voluntary          PHL               L6  \n",
       "8        Misconduct      Involuntary          BOS               L3  \n",
       "9        long hours        Voluntary          NYC               L5  \n",
       "\n",
       "[10 rows x 39 columns]"
      ]
     },
     "execution_count": 3,
     "metadata": {},
     "output_type": "execute_result"
    }
   ],
   "source": [
    "data.head(10)"
   ]
  },
  {
   "cell_type": "code",
   "execution_count": 4,
   "id": "ec0b6013",
   "metadata": {},
   "outputs": [
    {
     "data": {
      "text/plain": [
       "EmployeeID                      0\n",
       "JoiningYear                     0\n",
       "Age                             0\n",
       "BusinessTravel                  0\n",
       "DailyRate                       0\n",
       "Department                      0\n",
       "DistanceFromHome                0\n",
       "EducationField                  0\n",
       "EmployeeCount                   0\n",
       "EmployeeNumber                  0\n",
       "EnvironmentSatisfaction         0\n",
       "Gender                          0\n",
       "HourlyRate                      0\n",
       "JobInvolvement                  0\n",
       "JobSatisfaction                 0\n",
       "MaritalStatus                   0\n",
       "MonthlyIncome                   0\n",
       "MonthlyRate                     0\n",
       "NumCompaniesWorked              0\n",
       "Over18                          0\n",
       "OverTime                        0\n",
       "PercentSalaryHike               0\n",
       "PerformanceRating               0\n",
       "RelationshipSatisfaction        0\n",
       "StandardHours                   0\n",
       "StockOptionLevel                0\n",
       "TotalWorkingYears               0\n",
       "TrainingTimesLastYear           0\n",
       "WorkLifeBalance                 0\n",
       "YearsAtCompany                  0\n",
       "YearsInCurrentRole              0\n",
       "YearsSinceLastPromotion         0\n",
       "YearsWithCurrManager            0\n",
       "Attrition                       0\n",
       "LeavingYear                 10225\n",
       "Reason                      10225\n",
       "RelievingStatus             10225\n",
       "office_code                     0\n",
       "JobLevel_updated                0\n",
       "dtype: int64"
      ]
     },
     "execution_count": 4,
     "metadata": {},
     "output_type": "execute_result"
    }
   ],
   "source": [
    "data.isnull().sum()"
   ]
  },
  {
   "cell_type": "code",
   "execution_count": 5,
   "id": "419f019c",
   "metadata": {},
   "outputs": [
    {
     "name": "stdout",
     "output_type": "stream",
     "text": [
      "<class 'pandas.core.frame.DataFrame'>\n",
      "RangeIndex: 13423 entries, 0 to 13422\n",
      "Data columns (total 39 columns):\n",
      " #   Column                    Non-Null Count  Dtype  \n",
      "---  ------                    --------------  -----  \n",
      " 0   EmployeeID                13423 non-null  int64  \n",
      " 1   JoiningYear               13423 non-null  int64  \n",
      " 2   Age                       13423 non-null  int64  \n",
      " 3   BusinessTravel            13423 non-null  object \n",
      " 4   DailyRate                 13423 non-null  int64  \n",
      " 5   Department                13423 non-null  object \n",
      " 6   DistanceFromHome          13423 non-null  int64  \n",
      " 7   EducationField            13423 non-null  object \n",
      " 8   EmployeeCount             13423 non-null  int64  \n",
      " 9   EmployeeNumber            13423 non-null  int64  \n",
      " 10  EnvironmentSatisfaction   13423 non-null  int64  \n",
      " 11  Gender                    13423 non-null  object \n",
      " 12  HourlyRate                13423 non-null  int64  \n",
      " 13  JobInvolvement            13423 non-null  int64  \n",
      " 14  JobSatisfaction           13423 non-null  int64  \n",
      " 15  MaritalStatus             13423 non-null  object \n",
      " 16  MonthlyIncome             13423 non-null  int64  \n",
      " 17  MonthlyRate               13423 non-null  int64  \n",
      " 18  NumCompaniesWorked        13423 non-null  int64  \n",
      " 19  Over18                    13423 non-null  object \n",
      " 20  OverTime                  13423 non-null  object \n",
      " 21  PercentSalaryHike         13423 non-null  int64  \n",
      " 22  PerformanceRating         13423 non-null  int64  \n",
      " 23  RelationshipSatisfaction  13423 non-null  int64  \n",
      " 24  StandardHours             13423 non-null  int64  \n",
      " 25  StockOptionLevel          13423 non-null  int64  \n",
      " 26  TotalWorkingYears         13423 non-null  int64  \n",
      " 27  TrainingTimesLastYear     13423 non-null  int64  \n",
      " 28  WorkLifeBalance           13423 non-null  int64  \n",
      " 29  YearsAtCompany            13423 non-null  int64  \n",
      " 30  YearsInCurrentRole        13423 non-null  int64  \n",
      " 31  YearsSinceLastPromotion   13423 non-null  int64  \n",
      " 32  YearsWithCurrManager      13423 non-null  int64  \n",
      " 33  Attrition                 13423 non-null  object \n",
      " 34  LeavingYear               3198 non-null   float64\n",
      " 35  Reason                    3198 non-null   object \n",
      " 36  RelievingStatus           3198 non-null   object \n",
      " 37  office_code               13423 non-null  object \n",
      " 38  JobLevel_updated          13423 non-null  object \n",
      "dtypes: float64(1), int64(26), object(12)\n",
      "memory usage: 4.0+ MB\n"
     ]
    }
   ],
   "source": [
    "data.info()"
   ]
  },
  {
   "cell_type": "markdown",
   "id": "d616f9db",
   "metadata": {},
   "source": [
    "# Remove Unecessary Columns"
   ]
  },
  {
   "cell_type": "code",
   "execution_count": 6,
   "id": "b0f715af",
   "metadata": {},
   "outputs": [],
   "source": [
    "# Unique identifiers (no predictive value)\n",
    "data.drop(['EmployeeID', 'EmployeeNumber'], axis=1, inplace=True)\n",
    "\n",
    "# Constant columns (no variation, so no predictive power)\n",
    "data.drop(['EmployeeCount', 'StandardHours', 'Over18'], axis=1, inplace=True)\n",
    "\n",
    "# Post-attrition information — known only AFTER the employee leaves (leads to data leakage)\n",
    "data.drop(['LeavingYear', 'Reason', 'RelievingStatus'], axis=1, inplace=True)"
   ]
  },
  {
   "cell_type": "markdown",
   "id": "8b43beb3",
   "metadata": {},
   "source": [
    "# Encode Categorical Value"
   ]
  },
  {
   "cell_type": "code",
   "execution_count": 7,
   "id": "c50fe715",
   "metadata": {},
   "outputs": [
    {
     "data": {
      "text/plain": [
       "['BusinessTravel',\n",
       " 'Department',\n",
       " 'EducationField',\n",
       " 'Gender',\n",
       " 'MaritalStatus',\n",
       " 'OverTime',\n",
       " 'Attrition',\n",
       " 'office_code',\n",
       " 'JobLevel_updated']"
      ]
     },
     "execution_count": 7,
     "metadata": {},
     "output_type": "execute_result"
    }
   ],
   "source": [
    "categorical_cols = data.select_dtypes(include='object').columns.tolist()\n",
    "categorical_cols"
   ]
  },
  {
   "cell_type": "code",
   "execution_count": 8,
   "id": "95b0c8e6",
   "metadata": {},
   "outputs": [],
   "source": [
    "categorical_cols.remove(\"Attrition\")"
   ]
  },
  {
   "cell_type": "code",
   "execution_count": 9,
   "id": "9d36fc42",
   "metadata": {},
   "outputs": [],
   "source": [
    "le=LabelEncoder()\n",
    "for col in categorical_cols:\n",
    "    data[col]=le.fit_transform(data[col])"
   ]
  },
  {
   "cell_type": "code",
   "execution_count": 10,
   "id": "0fcd84ea",
   "metadata": {},
   "outputs": [
    {
     "name": "stderr",
     "output_type": "stream",
     "text": [
      "2025-05-31 06:52:10.905 WARNING streamlit.runtime.scriptrunner_utils.script_run_context: Thread 'MainThread': missing ScriptRunContext! This warning can be ignored when running in bare mode.\n",
      "2025-05-31 06:52:12.666 \n",
      "  \u001b[33m\u001b[1mWarning:\u001b[0m to view this Streamlit app on a browser, run it with the following\n",
      "  command:\n",
      "\n",
      "    streamlit run C:\\Users\\HP 440\\anaconda3\\Lib\\site-packages\\ipykernel_launcher.py [ARGUMENTS]\n",
      "2025-05-31 06:52:12.666 Thread 'MainThread': missing ScriptRunContext! This warning can be ignored when running in bare mode.\n"
     ]
    },
    {
     "data": {
      "text/plain": [
       "DeltaGenerator()"
      ]
     },
     "execution_count": 10,
     "metadata": {},
     "output_type": "execute_result"
    }
   ],
   "source": [
    "st.title(\"Employee Attrition Prediction- Random Forest\")"
   ]
  },
  {
   "cell_type": "code",
   "execution_count": 11,
   "id": "f5734068",
   "metadata": {},
   "outputs": [],
   "source": [
    "data[\"Attrition\"]=data[\"Attrition\"].map({\"Yes\":1,\"No\":0})"
   ]
  },
  {
   "cell_type": "code",
   "execution_count": 12,
   "id": "5b01081d",
   "metadata": {},
   "outputs": [
    {
     "data": {
      "text/plain": [
       "0        0\n",
       "1        0\n",
       "2        0\n",
       "3        0\n",
       "4        0\n",
       "        ..\n",
       "13418    1\n",
       "13419    1\n",
       "13420    1\n",
       "13421    1\n",
       "13422    1\n",
       "Name: Attrition, Length: 13423, dtype: int64"
      ]
     },
     "execution_count": 12,
     "metadata": {},
     "output_type": "execute_result"
    }
   ],
   "source": [
    "data.Attrition"
   ]
  },
  {
   "cell_type": "markdown",
   "id": "f54a5944",
   "metadata": {},
   "source": [
    "# Split Feature & Target"
   ]
  },
  {
   "cell_type": "code",
   "execution_count": 44,
   "id": "03fe0580",
   "metadata": {},
   "outputs": [],
   "source": [
    "X=data.drop([\"Attrition\"],axis=1)\n",
    "y=data[\"Attrition\"]"
   ]
  },
  {
   "cell_type": "code",
   "execution_count": 45,
   "id": "72857b99",
   "metadata": {},
   "outputs": [],
   "source": [
    "X_train, X_test, y_train, y_test=train_test_split(X,y ,test_size=0.2, random_state=42)"
   ]
  },
  {
   "cell_type": "code",
   "execution_count": 46,
   "id": "97b504bc",
   "metadata": {},
   "outputs": [],
   "source": [
    "rf=RandomForestClassifier()\n",
    "rf.fit(X_train, y_train)\n",
    "y_pred= rf.predict(X_test)"
   ]
  },
  {
   "cell_type": "code",
   "execution_count": 47,
   "id": "d1596d69",
   "metadata": {},
   "outputs": [],
   "source": [
    "from sklearn.metrics import classification_report, confusion_matrix"
   ]
  },
  {
   "cell_type": "code",
   "execution_count": 48,
   "id": "1236f2c4",
   "metadata": {},
   "outputs": [
    {
     "name": "stderr",
     "output_type": "stream",
     "text": [
      "2025-05-31 06:49:27.187 Thread 'MainThread': missing ScriptRunContext! This warning can be ignored when running in bare mode.\n",
      "2025-05-31 06:49:27.633 Thread 'MainThread': missing ScriptRunContext! This warning can be ignored when running in bare mode.\n",
      "2025-05-31 06:49:27.633 Thread 'MainThread': missing ScriptRunContext! This warning can be ignored when running in bare mode.\n"
     ]
    },
    {
     "data": {
      "text/plain": [
       "DeltaGenerator()"
      ]
     },
     "execution_count": 48,
     "metadata": {},
     "output_type": "execute_result"
    }
   ],
   "source": [
    "cm=confusion_matrix(y_test, y_pred)\n",
    "fig, ax = plt.subplots(figsize=(8,6))\n",
    "sns.heatmap(cm, annot=True, fmt=\"d\", xticklabels=[\"Stayed\", \"left\"], yticklabels=[\"Stayed\", \"left\"], ax=ax)\n",
    "ax.set_xlabel(\"Predicted\")\n",
    "ax.set_ylabel(\"Actual\")\n",
    "ax.set_title(\"Confusion Matrix - Random Forest\")\n",
    "st.pyplot(fig)  \n"
   ]
  },
  {
   "cell_type": "code",
   "execution_count": 49,
   "id": "f948dc08",
   "metadata": {},
   "outputs": [
    {
     "name": "stderr",
     "output_type": "stream",
     "text": [
      "2025-05-31 06:49:27.680 Thread 'MainThread': missing ScriptRunContext! This warning can be ignored when running in bare mode.\n",
      "2025-05-31 06:49:27.685 Thread 'MainThread': missing ScriptRunContext! This warning can be ignored when running in bare mode.\n",
      "2025-05-31 06:49:27.759 Thread 'MainThread': missing ScriptRunContext! This warning can be ignored when running in bare mode.\n",
      "2025-05-31 06:49:27.761 Thread 'MainThread': missing ScriptRunContext! This warning can be ignored when running in bare mode.\n"
     ]
    },
    {
     "data": {
      "text/plain": [
       "DeltaGenerator()"
      ]
     },
     "execution_count": 49,
     "metadata": {},
     "output_type": "execute_result"
    }
   ],
   "source": [
    "st.subheader(\"Random Forest Report\")\n",
    "st.text(classification_report(y_test,y_pred))"
   ]
  },
  {
   "cell_type": "code",
   "execution_count": 50,
   "id": "d19dfcb8",
   "metadata": {},
   "outputs": [
    {
     "name": "stderr",
     "output_type": "stream",
     "text": [
      "2025-05-31 06:49:28.009 Thread 'MainThread': missing ScriptRunContext! This warning can be ignored when running in bare mode.\n",
      "2025-05-31 06:49:28.958 Thread 'MainThread': missing ScriptRunContext! This warning can be ignored when running in bare mode.\n",
      "2025-05-31 06:49:28.958 Thread 'MainThread': missing ScriptRunContext! This warning can be ignored when running in bare mode.\n"
     ]
    },
    {
     "data": {
      "text/plain": [
       "DeltaGenerator()"
      ]
     },
     "execution_count": 50,
     "metadata": {},
     "output_type": "execute_result"
    }
   ],
   "source": [
    "importances=rf.feature_importances_\n",
    "indices=np.argsort(importances)[::-1]\n",
    "fig2, ax2 = plt.subplots(figsize=(10,6))\n",
    "sns.barplot(x=importances[indices][:10], y=X.columns[indices][:10], palette=\"viridis\", ax=ax2)\n",
    "ax2.set_title(\"Top 10 Important Features - Default Model\")\n",
    "ax2.set_xlabel(\"Feature Importance Score\")\n",
    "ax2.set_ylabel(\"Feature\")\n",
    "st.pyplot(fig2) \n"
   ]
  },
  {
   "cell_type": "code",
   "execution_count": 51,
   "id": "4d382991",
   "metadata": {},
   "outputs": [
    {
     "name": "stderr",
     "output_type": "stream",
     "text": [
      "2025-05-31 06:49:29.045 Thread 'MainThread': missing ScriptRunContext! This warning can be ignored when running in bare mode.\n",
      "2025-05-31 06:49:29.049 Thread 'MainThread': missing ScriptRunContext! This warning can be ignored when running in bare mode.\n",
      "2025-05-31 06:49:29.052 Thread 'MainThread': missing ScriptRunContext! This warning can be ignored when running in bare mode.\n",
      "2025-05-31 06:49:29.059 Thread 'MainThread': missing ScriptRunContext! This warning can be ignored when running in bare mode.\n",
      "2025-05-31 06:49:29.067 Thread 'MainThread': missing ScriptRunContext! This warning can be ignored when running in bare mode.\n",
      "2025-05-31 06:49:29.072 Thread 'MainThread': missing ScriptRunContext! This warning can be ignored when running in bare mode.\n",
      "2025-05-31 06:49:29.081 Thread 'MainThread': missing ScriptRunContext! This warning can be ignored when running in bare mode.\n",
      "2025-05-31 06:49:29.083 Thread 'MainThread': missing ScriptRunContext! This warning can be ignored when running in bare mode.\n",
      "2025-05-31 06:49:29.086 Thread 'MainThread': missing ScriptRunContext! This warning can be ignored when running in bare mode.\n",
      "2025-05-31 06:49:29.094 Thread 'MainThread': missing ScriptRunContext! This warning can be ignored when running in bare mode.\n",
      "2025-05-31 06:49:29.097 Thread 'MainThread': missing ScriptRunContext! This warning can be ignored when running in bare mode.\n",
      "2025-05-31 06:49:29.099 Thread 'MainThread': missing ScriptRunContext! This warning can be ignored when running in bare mode.\n",
      "2025-05-31 06:49:29.103 Thread 'MainThread': missing ScriptRunContext! This warning can be ignored when running in bare mode.\n",
      "2025-05-31 06:49:29.105 Thread 'MainThread': missing ScriptRunContext! This warning can be ignored when running in bare mode.\n",
      "2025-05-31 06:49:29.109 Thread 'MainThread': missing ScriptRunContext! This warning can be ignored when running in bare mode.\n",
      "2025-05-31 06:49:29.111 Thread 'MainThread': missing ScriptRunContext! This warning can be ignored when running in bare mode.\n",
      "2025-05-31 06:49:29.114 Thread 'MainThread': missing ScriptRunContext! This warning can be ignored when running in bare mode.\n",
      "2025-05-31 06:49:29.117 Thread 'MainThread': missing ScriptRunContext! This warning can be ignored when running in bare mode.\n",
      "2025-05-31 06:49:29.121 Thread 'MainThread': missing ScriptRunContext! This warning can be ignored when running in bare mode.\n",
      "2025-05-31 06:49:29.124 Thread 'MainThread': missing ScriptRunContext! This warning can be ignored when running in bare mode.\n",
      "2025-05-31 06:49:29.128 Thread 'MainThread': missing ScriptRunContext! This warning can be ignored when running in bare mode.\n",
      "2025-05-31 06:49:29.131 Thread 'MainThread': missing ScriptRunContext! This warning can be ignored when running in bare mode.\n",
      "2025-05-31 06:49:29.133 Thread 'MainThread': missing ScriptRunContext! This warning can be ignored when running in bare mode.\n",
      "2025-05-31 06:49:29.136 Thread 'MainThread': missing ScriptRunContext! This warning can be ignored when running in bare mode.\n",
      "2025-05-31 06:49:29.139 Thread 'MainThread': missing ScriptRunContext! This warning can be ignored when running in bare mode.\n",
      "2025-05-31 06:49:29.141 Thread 'MainThread': missing ScriptRunContext! This warning can be ignored when running in bare mode.\n",
      "2025-05-31 06:49:29.145 Thread 'MainThread': missing ScriptRunContext! This warning can be ignored when running in bare mode.\n",
      "2025-05-31 06:49:29.149 Thread 'MainThread': missing ScriptRunContext! This warning can be ignored when running in bare mode.\n",
      "2025-05-31 06:49:29.152 Thread 'MainThread': missing ScriptRunContext! This warning can be ignored when running in bare mode.\n",
      "2025-05-31 06:49:29.156 Thread 'MainThread': missing ScriptRunContext! This warning can be ignored when running in bare mode.\n",
      "2025-05-31 06:49:29.159 Thread 'MainThread': missing ScriptRunContext! This warning can be ignored when running in bare mode.\n",
      "2025-05-31 06:49:29.160 Thread 'MainThread': missing ScriptRunContext! This warning can be ignored when running in bare mode.\n",
      "2025-05-31 06:49:29.164 Thread 'MainThread': missing ScriptRunContext! This warning can be ignored when running in bare mode.\n",
      "2025-05-31 06:49:29.165 Thread 'MainThread': missing ScriptRunContext! This warning can be ignored when running in bare mode.\n",
      "2025-05-31 06:49:29.168 Thread 'MainThread': missing ScriptRunContext! This warning can be ignored when running in bare mode.\n",
      "2025-05-31 06:49:29.169 Thread 'MainThread': missing ScriptRunContext! This warning can be ignored when running in bare mode.\n",
      "2025-05-31 06:49:29.171 Thread 'MainThread': missing ScriptRunContext! This warning can be ignored when running in bare mode.\n",
      "2025-05-31 06:49:29.173 Thread 'MainThread': missing ScriptRunContext! This warning can be ignored when running in bare mode.\n",
      "2025-05-31 06:49:29.177 Thread 'MainThread': missing ScriptRunContext! This warning can be ignored when running in bare mode.\n"
     ]
    }
   ],
   "source": [
    "# Streamlit User Interface\n",
    "st.sidebar.title(\"Employee Attrition Prediction\")\n",
    "\n",
    "# User input for each feature (example: select boxes, sliders)\n",
    "st.sidebar.subheader(\"Enter Employee Details:\")\n",
    "\n",
    "def user_input_features():\n",
    "    Age = st.sidebar.slider('Age', int(X['Age'].min()), int(X['Age'].max()), int(X['Age'].mean()))\n",
    "    DistanceFromHome = st.sidebar.slider('Distance From Home', int(X['DistanceFromHome'].min()), int(X['DistanceFromHome'].max()), int(X['DistanceFromHome'].mean()))\n",
    "    MonthlyIncome = st.sidebar.slider('Monthly Income', int(X['MonthlyIncome'].min()), int(X['MonthlyIncome'].max()), int(X['MonthlyIncome'].mean()))\n",
    "    JobSatisfaction = st.sidebar.slider('Job Satisfaction', 1, 4, 2)\n",
    "    TotalWorkingYears = st.sidebar.slider('Total Working Years', int(X['TotalWorkingYears'].min()), int(X['TotalWorkingYears'].max()), int(X['TotalWorkingYears'].mean()))\n",
    "    YearsAtCompany = st.sidebar.slider('Years At Company', int(X['YearsAtCompany'].min()), int(X['YearsAtCompany'].max()), int(X['YearsAtCompany'].mean()))\n",
    "\n",
    "    # Add more sliders/select boxes as needed\n",
    "    input_data = {\n",
    "        'Age': Age,\n",
    "        'DistanceFromHome': DistanceFromHome,\n",
    "        'MonthlyIncome': MonthlyIncome,\n",
    "        'JobSatisfaction': JobSatisfaction,\n",
    "        'TotalWorkingYears': TotalWorkingYears,\n",
    "        'YearsAtCompany': YearsAtCompany,\n",
    "        # Add more fields here matching model features\n",
    "    }\n",
    "    return pd.DataFrame([input_data])\n",
    "\n",
    "input_df = user_input_features()\n",
    "\n",
    "# Predict Button\n",
    "if st.button(\"Predict Attrition\"):\n",
    "    result = rf.predict(input_df)\n",
    "    if result[0] == 0:\n",
    "        st.success(\"Prediction: The employee is likely to LEAVE.\")\n",
    "    else:\n",
    "        st.success(\"Prediction: The employee is likely to STAY.\")\n"
   ]
  },
  {
   "cell_type": "code",
   "execution_count": null,
   "id": "73e287e8",
   "metadata": {},
   "outputs": [],
   "source": [
    "pip show streamlit"
   ]
  },
  {
   "cell_type": "code",
   "execution_count": null,
   "id": "2600f889",
   "metadata": {},
   "outputs": [],
   "source": []
  },
  {
   "cell_type": "code",
   "execution_count": null,
   "id": "bf1cde00",
   "metadata": {},
   "outputs": [],
   "source": []
  },
  {
   "cell_type": "code",
   "execution_count": null,
   "id": "a0991302",
   "metadata": {},
   "outputs": [],
   "source": []
  }
 ],
 "metadata": {
  "kernelspec": {
   "display_name": "Python 3 (ipykernel)",
   "language": "python",
   "name": "python3"
  },
  "language_info": {
   "codemirror_mode": {
    "name": "ipython",
    "version": 3
   },
   "file_extension": ".py",
   "mimetype": "text/x-python",
   "name": "python",
   "nbconvert_exporter": "python",
   "pygments_lexer": "ipython3",
   "version": "3.11.5"
  }
 },
 "nbformat": 4,
 "nbformat_minor": 5
}
